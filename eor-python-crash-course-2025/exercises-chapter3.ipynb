{
 "cells": [
  {
   "cell_type": "markdown",
   "id": "11e232df",
   "metadata": {},
   "source": [
    "# Exercises of Chapter 3 (Lecture 1)\n",
    "This notebook is an interactive version of the exercises in Chapter 3 of the <a href=\"https://pskleer.github.io/eor-python-crash-course-2025/03-basics.html\">online course document</a>. Here you can type your solutions in the code blocks under the respective questions.\n",
    "\n",
    "Recall that you can run a cell in which you have entered code by pressing the <kbd>$\\blacktriangleright$ Run </kbd> button above, or by using the keyboard shortcut <kbd>Shift</kbd> + <kbd>Enter</kbd>."
   ]
  },
  {
   "cell_type": "markdown",
   "id": "ad0003e0",
   "metadata": {},
   "source": [
    "## Exercise 3.1\n",
    "Compute the following expressions using the operator `+`, `-`, `*`, `/` and `**`:\n",
    "\n",
    "i) $$3 + 5 \\cdot 2$$"
   ]
  },
  {
   "cell_type": "code",
   "execution_count": null,
   "id": "e34783a3",
   "metadata": {},
   "outputs": [],
   "source": []
  },
  {
   "cell_type": "markdown",
   "id": "30c95e39",
   "metadata": {},
   "source": [
    "ii) $$\\frac{(10 - 4)^2}{3}$$"
   ]
  },
  {
   "cell_type": "code",
   "execution_count": null,
   "id": "b1339ab8",
   "metadata": {},
   "outputs": [],
   "source": []
  },
  {
   "cell_type": "markdown",
   "id": "2844fb76",
   "metadata": {},
   "source": [
    "iii) $$\\frac{\\left((2 + 3) \\cdot 4 - 5\\right)^2}{3 + 1}$$\n"
   ]
  },
  {
   "cell_type": "code",
   "execution_count": null,
   "id": "6a02b484",
   "metadata": {},
   "outputs": [],
   "source": []
  },
  {
   "cell_type": "markdown",
   "id": "f5f4772f",
   "metadata": {},
   "source": [
    "## Exercise 3.2\n",
    "Define variables $a, b, c$ with numbers $19, 3$ and $7$, respectively."
   ]
  },
  {
   "cell_type": "code",
   "execution_count": null,
   "id": "771a4b95",
   "metadata": {},
   "outputs": [],
   "source": []
  },
  {
   "cell_type": "markdown",
   "id": "94935d2e",
   "metadata": {},
   "source": [
    "i) Compute $$a + b \\cdot c$$"
   ]
  },
  {
   "cell_type": "code",
   "execution_count": null,
   "id": "9ced4015",
   "metadata": {},
   "outputs": [],
   "source": []
  },
  {
   "cell_type": "markdown",
   "id": "372e8c20",
   "metadata": {},
   "source": [
    "ii) Compute $$\\frac{(a - c)^2}{b}$$\n"
   ]
  },
  {
   "cell_type": "code",
   "execution_count": null,
   "id": "b425b8e7",
   "metadata": {},
   "outputs": [],
   "source": []
  },
  {
   "cell_type": "markdown",
   "id": "0f90baac",
   "metadata": {},
   "source": [
    "iii) Compute $$\\frac{((b + c) \\cdot a - c^2)^2}{a + b}$$"
   ]
  },
  {
   "cell_type": "code",
   "execution_count": null,
   "id": "d04fe2f8",
   "metadata": {},
   "outputs": [],
   "source": []
  },
  {
   "cell_type": "markdown",
   "id": "015a48d2",
   "metadata": {},
   "source": [
    "## Exercise 3.3\n",
    "Create the list $a = [11, 41, 12, 35, 6, 33, 7]$."
   ]
  },
  {
   "cell_type": "code",
   "execution_count": null,
   "id": "059ed6f0",
   "metadata": {},
   "outputs": [],
   "source": []
  },
  {
   "cell_type": "markdown",
   "id": "995c591c",
   "metadata": {},
   "source": [
    "\n",
    "i) Compute the sum of the numbers at even positions in $a$ (i.e., positions $0, 2, 4$, and $6$).\n"
   ]
  },
  {
   "cell_type": "code",
   "execution_count": null,
   "id": "ae7ba0e3",
   "metadata": {},
   "outputs": [],
   "source": []
  },
  {
   "cell_type": "markdown",
   "id": "b51a1631",
   "metadata": {},
   "source": [
    "ii) Compute the result of multiplying the first and last elements of $a$, then subtracting the middle element.\n"
   ]
  },
  {
   "cell_type": "code",
   "execution_count": null,
   "id": "21f65837",
   "metadata": {},
   "outputs": [],
   "source": []
  },
  {
   "cell_type": "markdown",
   "id": "a537bf8c",
   "metadata": {},
   "source": [
    "iii) Compute the square of the element at position $2$, divided by the sum of the elements at the uneven positions."
   ]
  },
  {
   "cell_type": "code",
   "execution_count": null,
   "id": "21d9486a",
   "metadata": {},
   "outputs": [],
   "source": []
  },
  {
   "cell_type": "markdown",
   "id": "b02650a4",
   "metadata": {},
   "source": [
    "## Exercise 3.4\n",
    "Create the list $a = [1, 4, 2, 5, 6, 3, 7]$."
   ]
  },
  {
   "cell_type": "code",
   "execution_count": null,
   "id": "257f05c2",
   "metadata": {},
   "outputs": [],
   "source": []
  },
  {
   "cell_type": "markdown",
   "id": "28d25148",
   "metadata": {},
   "source": [
    "i) Compute the sum of the numbers at the even indices using a for-loop."
   ]
  },
  {
   "cell_type": "code",
   "execution_count": null,
   "id": "a93e9ac7",
   "metadata": {},
   "outputs": [],
   "source": []
  },
  {
   "cell_type": "markdown",
   "id": "4d10c47a",
   "metadata": {},
   "source": [
    "ii) Compute the product of the numbers in $a$ using a for-loop."
   ]
  },
  {
   "cell_type": "code",
   "execution_count": null,
   "id": "cfd2b709",
   "metadata": {},
   "outputs": [],
   "source": []
  },
  {
   "cell_type": "markdown",
   "id": "6915646c",
   "metadata": {},
   "source": [
    "## Exercise 3.5\n",
    "Create the list $a = [1, 4, -4, 0, 5, -3, -7]$ in Python."
   ]
  },
  {
   "cell_type": "code",
   "execution_count": null,
   "id": "3da1a18c",
   "metadata": {},
   "outputs": [],
   "source": []
  },
  {
   "cell_type": "markdown",
   "id": "df17a5f0",
   "metadata": {},
   "source": [
    "Use a for-loop to check for every number in $a$ whether it is positive, zero, or negative. If a number is positive you should print the message `\"The number is positive\"`, it is zero `\"The number is zero\"` and if it is negative `\"The number is negative\"`. <br>\n",
    "\n",
    "The output of your piece of code should be as follows: <br>\n",
    "\n",
    "The number is positive <br>\n",
    "The number is positive <br>\n",
    "The number is negative <br>\n",
    "The number is zero     <br>\n",
    "The number is positive <br>\n",
    "The number is negative <br>\n",
    "The number is negative"
   ]
  },
  {
   "cell_type": "code",
   "execution_count": null,
   "id": "df07c542",
   "metadata": {},
   "outputs": [],
   "source": []
  },
  {
   "cell_type": "markdown",
   "id": "8f39139a",
   "metadata": {},
   "source": [
    "## Exercise 3.6\n",
    "Create variables $a = 3, b = 2$ and $c = -1$. Create a variable `D` for the discriminant (in terms of $a,b$ and $c$).\n"
   ]
  },
  {
   "cell_type": "code",
   "execution_count": null,
   "id": "9e6affbf",
   "metadata": {},
   "outputs": [],
   "source": []
  },
  {
   "cell_type": "markdown",
   "id": "06accce3",
   "metadata": {},
   "source": [
    "i) Use conditional statements to determine how many roots the quadratic formula $ax^2 + bx + c$ has, based on the three possibilities for the discriminant. For each possibility, print an appropriate message in the indented code block. *For the chosen $a,b$ and $c,$ the function has two roots (so this case should be printed in your code).* "
   ]
  },
  {
   "cell_type": "code",
   "execution_count": null,
   "id": "3a5b4972",
   "metadata": {},
   "outputs": [],
   "source": []
  },
  {
   "cell_type": "markdown",
   "id": "9d552b89",
   "metadata": {},
   "source": [
    "ii) Use conditional statements to print the roots $x$ of the quadratic formula $ax^2 + bx + c,$ based on the three possibilities for the discriminant (in the third case, do not print the roots, but a message saying there are no roots). *Hint: If you want to print two variables `y` and `z` you can use `print(x,y)` or use `print(x)` and `print(y)` on different indented lines.* \n",
    "\n",
    "For the chosen $a,b$ and $c$, your output should show the roots $-0.9106836025229591$  and $0.2440169358562924$ (possibly rounded to less decimals)."
   ]
  },
  {
   "cell_type": "code",
   "execution_count": null,
   "id": "6343b938",
   "metadata": {},
   "outputs": [],
   "source": []
  },
  {
   "cell_type": "markdown",
   "id": "d07ec55c",
   "metadata": {},
   "source": [
    "# Exercise 3.7\n",
    "Create the lists $a = [3,7,1,4]$, $b = [2,7,4,4]$ and $c = [11,3,0,1]$. Write a for-loop that executes your code of Exercise 3.6(ii) for every combination $(a_i,b_i,c_i)$ where $a_i,b_i,c_i$ are the numbers at position $i$ in the lists $a,b,c$, respectively, for $i = 0,1,2,3$.\n",
    "\n",
    "Your output should look something like:\n",
    "\n",
    "The formula has no real roots <br>\n",
    "The formula has no real roots <br>\n",
    "-4.0 0.0 <br>\n",
    "-0.5"
   ]
  },
  {
   "cell_type": "code",
   "execution_count": null,
   "id": "ad3cd8ce",
   "metadata": {},
   "outputs": [],
   "source": []
  }
 ],
 "metadata": {
  "kernelspec": {
   "display_name": "Python 3 (ipykernel)",
   "language": "python",
   "name": "python3"
  },
  "language_info": {
   "codemirror_mode": {
    "name": "ipython",
    "version": 3
   },
   "file_extension": ".py",
   "mimetype": "text/x-python",
   "name": "python",
   "nbconvert_exporter": "python",
   "pygments_lexer": "ipython3",
   "version": "3.10.9"
  }
 },
 "nbformat": 4,
 "nbformat_minor": 5
}
