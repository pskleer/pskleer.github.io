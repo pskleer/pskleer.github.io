{
 "cells": [
  {
   "cell_type": "markdown",
   "metadata": {},
   "source": [
    "---\n",
    "title: Linear algebra\n",
    "jupyter: python3\n",
    "---\n",
    "\n",
    "\n",
    "<link rel=\"preconnect\" href=\"https://fonts.googleapis.com\">\n",
    "<link rel=\"preconnect\" href=\"https://fonts.gstatic.com\" crossorigin>\n",
    "<link href=\"https://fonts.googleapis.com/css2?family=Fira+Mono&family=Fira+Sans&display=swap\" rel=\"stylesheet\">\n",
    "\n",
    "In this chapter we will learn how to use Python for linear algebra. \n",
    "\n",
    "## Packages\n",
    "\n",
    "In the first session of this crash course you have learned the basics of Python: how to use Python as a calculator, use lists, for-loops, and if-else-statements. \n",
    "\n",
    "Python can be used for much more advanced operations as well. As you can imagine, code quickly grows more complicated. Fortunately, we can reuse code written by other through so-called **packages** (or libraries). In the optional chapter @sec-math-basics you might have seen several packages already. \n",
    "\n",
    "Using packages has several advantages. If you use a standard package, then it makes your code more readable. It also reduces the risk of errors: Python packages are typically developed by expert programmers and thoroughly tested before they are released to the public. For the mainstream packages that we will be using, you can thus be reasonably confident that they deliver what they promise. \n",
    "\n",
    "Another major advantage of packages is that they are often heavily optimized in terms of speed and memory efficiency.^[Under the hood, numpy for instance relies on BLAS and LAPACK for most of its linear algebraic subroutines. BLAS and LAPACK are written in a programming language called Fortran, see for example the <a href =\"https://www.netlib.org/lapack/#_presentation\">LAPACK documentation</a>. LAPACK is used by many other programming languages, including Matlab.] \n",
    "\n",
    "\n",
    "\n",
    "Today we will use several well-known packages:\n",
    "\n",
    "- <a href=\"https://numpy.org/\">NumPy</a>, \n",
    "- Sympy, \n",
    "- and <a href=\"https://matplotlib.org/\">Matplotlib</a>. \n",
    "\n",
    "\n",
    "In a nutshell: packages are functions written by other people to make our life easy, i.e., so that we do not have to write every code file from scratch in Python.\n",
    "\n",
    "*The NumPy, SymPy and Matplotlib packages should be installed in a standard Anaconda installation. If you have another Python installation, typically using the PIP package manager should allow you to install packages. In this case, commands like `pip install numpy` and `pip install sympy` should do the job.*\n",
    "\n",
    "\n",
    "\n",
    "## Why `numpy` and `sympy`?\n",
    "\n",
    "The package `numpy` is designed for fast numerical calculations, e.g., with matrices. We can compute matrix products, solve linear systems, and compute inverses with `numpy` very quicky.\n",
    "The package `sympy`, on the other hand, is a symbolic mathematics library. It can do exact algebraic manipulations (also with variables x and y), but it is less quick than numerical computations with `numpy`. `sympy` also contains a method to do exact row-reduction, to bring a matrix into reduced echelon form. This may also be useful if you did row-reduction by hand and want to verify your result with the computer. \n",
    "\n",
    "## Basic matrix and vector operations with Numpy\n",
    "\n",
    "Suppose we have the following vectors $\\mathbf{x}$ and $\\mathbf{y}$, and matrix $A$: \n",
    "$$\n",
    "\\mathbf{x}=\\left[\\begin{array}{c}1\\\\2\\\\3 \\end{array} \\right], \\mathbf{y}=\\left[\\begin{array}{c}4\\\\5\\\\7 \\end{array} \\right],  A =  \\begin{bmatrix} 1 & 2 & 3 \\\\ 4 & 5 & 6 \\\\ 7 & 8 & 9 \\end{bmatrix}\n",
    "$$\n",
    "We write these vectors in Python as follows:\n"
   ]
  },
  {
   "cell_type": "code",
   "execution_count": null,
   "metadata": {},
   "outputs": [],
   "source": [
    "import numpy as np\n",
    "\n",
    "# Define the vectors and matrix\n",
    "x = np.array([1, 2, 3])\n",
    "y = np.array([4, 5, 7])\n",
    "A = np.array([[1, 2, 3],\n",
    "              [4, 5, 6],\n",
    "              [7, 8, 9]])"
   ]
  },
  {
   "cell_type": "markdown",
   "metadata": {},
   "source": [
    "In Python, we can add vectors, compute the matrix-vector product and multiply matrices.\n",
    "Note: To compute a matrix-vector product you use the command `A@x`. What happens if you use the command `A*x`?\n",
    "Now, try to compute $A\\mathbf{x}$, $A\\mathbf{y}$, and $A(\\mathbf{x}+\\mathbf{y})$ with Python. What do you notice?"
   ]
  },
  {
   "cell_type": "code",
   "execution_count": null,
   "metadata": {},
   "outputs": [],
   "source": [
    "# your code here"
   ]
  },
  {
   "cell_type": "markdown",
   "metadata": {},
   "source": [
    "## Application: input-output models \n",
    "\n",
    "(From Python Linear Algebra Notebook by Herbert Hamers)\n",
    "\n",
    "A chemical plant receives oil from three different regions: the Middle East, South America, and the NorthSea. The quality of the oil is different for each region. These oils will be used to produce gasoline, diesel fuel, and bike chain oil. The oil from the Middle east will be only used for the production of gasoline. Of the oil of South America, $20$ % will be used for the production of gasoline, and $80$ % for the production of diesel fuel. Finally, $25$ % of the North Sea oil will be used to produce gasoline, $25$ % to produce diesel fuel, and 50 % for the production of bike chain oil.\n",
    "\n",
    "Suppose today a shipment arrives of $5000$ barrels of oil from the Middle East, $9000$ barrels of oil from South America, and $1000$ barrels from the North Sea. The plant wants to know how much gasoline, diesel fuel, and bike chain oil it can produce from this shipment.\n",
    "\n",
    "Obviously, the $5000$ barrels of oil from the Middle East will completely be used for the production of gasoline, i.e. $1\\cdot 5000 = 5000$ barrels of gasoline. Of the $9000$ barrels of South America oil, $20$ % will be used for the production of gasoline. Hence, this leads to $0.2 \\cdot 9000 = 1800$ barrels of gasoline. Finally, of the $1000$ barrels of North sea oil 25 % will be used for the production of gasoline. Hence, we obtain $0.25\\cdot 1000 = 250$ barrels of gasoline. Hence, the total number of barrels of gasoline that will be produced is\n",
    "$$\n",
    "1 \\cdot 5000 + 0.2 \\cdot 9000 + 0.25 \\cdot 1000 = 5000+1800+250=7050.\n",
    "$$\n",
    "By a similar computation, one can compute the total number of barrels of diesel fuel:\n",
    "$$\n",
    "0 \\cdot 5000 + 0.8 \\cdot 9000 + 0.25 \\cdot 1000 = 7450.\n",
    "$$\n",
    "Finally, one can show that the total number of barrels of bike chain oil is $500$, using a similar computation. \n",
    "\n",
    "The production process can be summarized using the matrix-vector product. The production process is represented by the following matrix\n",
    "$$\n",
    "\\begin{bmatrix} 1 & 0.2 & 0.25 \\\\ 0 & 0.8 & 0.25 \\\\ 0 &0 &0.5 \\end{bmatrix},\n",
    "$$\n",
    "where the first column represents the division in the three end products of the Middle East oil, the second column represents the division in the three end products of the South America oil, and the third column represents the division in the three end products of the North Sea oil."
   ]
  },
  {
   "cell_type": "code",
   "execution_count": null,
   "metadata": {},
   "outputs": [],
   "source": [
    "A=np.array([[1,0.2,0.25],[0,0.8,0.25],[0,0,0.5]])\n",
    "print(A)"
   ]
  },
  {
   "cell_type": "markdown",
   "metadata": {},
   "source": [
    "The shipment of the oil can be summarized by the following vector:\n",
    "$$\n",
    "q = \\begin{bmatrix} 5000 \\\\ 9000 \\\\ 1000 \\end{bmatrix}\n",
    "$$\n",
    "\n",
    "Using the matrix-vector product, it can easily be calculated how much gasoline, diesel fuel, and bike chain oil can be produced from this oil-delivery:\n",
    "$$\n",
    "Aq = \\begin{bmatrix} 1 & 0.2 & 0.25 \\\\ 0 & 0.8 & 0.25 \\\\ 0 &0 &0.5 \\end{bmatrix} \\begin{bmatrix} 5000 \\\\ 9000 \\\\ 1000 \\end{bmatrix} = \\begin{bmatrix} 1 \\cdot 5000 + 0.2 \\cdot 9000 + 0.25 \\cdot 1000 \\\\ 0 \\cdot 5000 + 0.8 \\cdot 9000 + 0.25 \\cdot 1000\\\\ 0 \\cdot 5000 + 0 \\cdot 9000 + 0.5 \\cdot 1000  \\end{bmatrix}  = \\begin{bmatrix} 7050 \\\\ 7450 \\\\ 500 \\end{bmatrix} \n",
    "$$\n",
    "\n",
    "Hence, using the matrix-vector product we come to the same conclusion: the oil-delivery will result in 7050 barrels of gasoline, 7450 barrels of diesel fuel, and 500 barrels of bike chain oil.\n",
    "\n",
    "The next day a shipment of 10000 barrels of oil from the Middle East, 1000 barrels of South America, and 200 barrels of the North Sea arrives. Determine the output of gasoline, diesel fuel, and key chain oil of this oil-delivery."
   ]
  },
  {
   "cell_type": "code",
   "execution_count": null,
   "metadata": {},
   "outputs": [],
   "source": [
    "# your code here"
   ]
  },
  {
   "cell_type": "markdown",
   "metadata": {},
   "source": [
    "Let us continue with a variation on the above problem.\n",
    "\n",
    "Now, a chemical plant receives oil from five different regions: the Middle East, South America, the North Sea,Africa and Asia. Again, the quality of the oil is different for each region. These oils will be used to produce gasoline, diesel fuel, bike chain oil, fuel $95$ and fuel $98$. The oil from the Middle east will be only used for the production of gasoline. Of the oil of South America, $20$% will be used for the production of gasoline, and $80$% for the production of diesel fuel. $25$% of the North Sea oil will be used to produce gasoline, $25$% to produce diesel fuel, and $50$% for the production of bike chain oil. Of the oil of Africa, $10$% will be used for the production of gasoline, $10$% for the production of bike chain oil, $30$% for the production of fuel $95$ and $50$% for the production of fuel $98$. Finally, $30$% of the Asia oil will be used to produce gasoline, $5$ % to produce diesel fuel, $50$ % for the production of fuel $95$, and $15$% for the production of fuel $98$.\n",
    "\n",
    "Suppose today a shipment arrives of $5000$ barrels of oil from the Middle East, $9000$ barrels of oil from South America, $1000$ barrels from the North Sea, $4000$ barrels of oil from Africa, and 4000 barrels of oil from Asia. The plant wants to know how much gasoline, diesel fuel, bike chain oil, fuel $95$, and fuel $98$ it can produce from this shipment.\n",
    "\n",
    "With the new information $A$ will be a 5x5 matrix and $q$ will be a 5x1 vector. Determine the output of gasoline, diesel fuel, bike chain oil, fuel $95$, and fuel $98$ of this oil-delivery."
   ]
  },
  {
   "cell_type": "code",
   "execution_count": null,
   "metadata": {},
   "outputs": [],
   "source": [
    "# your code here"
   ]
  },
  {
   "cell_type": "markdown",
   "metadata": {},
   "source": [
    "## Matrix operations: inverse, determinant, solving linear systems\n",
    "\n",
    "\n",
    "Assuming we imported NumPy under the alias `np`, the module `np.linalg` from NumPy contains several standard linear algebra methods that we will encounter today.\n",
    "\n",
    "- `det(A)`: Determinant of matrix $A$\n",
    "- `inv(A)`: Inverse of matrix $A$\n",
    "- `solve(A,b)`: Solution to linear system $A x =b$\n",
    "\n",
    "To use such a method, you should use the syntax `np.linalg.method_name` with `method_name` replaced by one of the three options above."
   ]
  },
  {
   "cell_type": "code",
   "execution_count": null,
   "metadata": {},
   "outputs": [],
   "source": [
    "import numpy as np\n",
    "\n",
    "A = np.array([[0,1],[1,0]]) #Define A\n",
    "print(A)\n",
    "\n",
    "print(\"The determinant of A is\", np.linalg.det(A))"
   ]
  },
  {
   "cell_type": "markdown",
   "metadata": {},
   "source": [
    "**Exercise 5.1:**\n",
    "\n",
    "i) Compute the determinant of the following matrices \n",
    "\n",
    "$$\n",
    "A = \\begin{pmatrix} 0 & 1 \\\\ 1 & 0 \\end{pmatrix}, \\qquad B = \\begin{pmatrix} 1 & 2 & 3 \\\\ 2 & 3 & 4 \\\\ 1 & 1 & 1 \\end{pmatrix}, \\qquad C = \\begin{pmatrix} 1 & 3 & 2 \\\\ 2 & 3 & 7 \\\\ 1 & 3 & 1 \\end{pmatrix}\n",
    "$$\n",
    "\n",
    "ii) Which of the matrices $A$, $B$, $C$ are invertible? For each of these matrices, compute the inverse."
   ]
  },
  {
   "cell_type": "code",
   "execution_count": null,
   "metadata": {},
   "outputs": [],
   "source": [
    "# your code here "
   ]
  },
  {
   "cell_type": "markdown",
   "metadata": {},
   "source": [
    "**Exercise 5.2**:\n",
    "\n",
    "In the Linear Algebra course we have seen that if we multiply a single row by a constant $k$, then the determinant gets multiplied by $k$ as well. \n",
    "\n",
    "i) Verify this (using Python) for the matrix obtained from $C$ by multiplying the first row by $10$:\n",
    "$$\n",
    "D = \\begin{pmatrix} 10 & 0 & 0 \\\\ 0 & 1 & 0 \\\\ 0 & 0 & 1\\end{pmatrix} C\n",
    "$$\n",
    "\n",
    "ii) What is $\\det(10 C)$?"
   ]
  },
  {
   "cell_type": "code",
   "execution_count": null,
   "metadata": {},
   "outputs": [],
   "source": [
    "# your code here"
   ]
  },
  {
   "cell_type": "markdown",
   "metadata": {},
   "source": [
    "We can use Python to solve linear systems of equations using `numpy`. Consider for example the following system of equations:\n",
    "\n",
    "$$\n",
    "\\left\\{\\begin{array}{rl}\n",
    "x_1 - 3x_2  &= 5 \\\\\n",
    "-x_1 +x_2 +5x_3 &= 2 \\\\\n",
    "x_2 + x_3 &= 0 \n",
    "\\end{array}\\right.\n",
    "$$\n",
    "\n",
    "We can solve the system very efficiently numerically with the command `np.linalg.solve(A,b)`:"
   ]
  },
  {
   "cell_type": "code",
   "execution_count": null,
   "metadata": {},
   "outputs": [],
   "source": [
    "import numpy as np\n",
    "\n",
    "# Coefficient matrix A\n",
    "A = np.array([[1, -3, 0],\n",
    "              [-1, 1, 5],\n",
    "              [0, 1, 1]])\n",
    "\n",
    "# Right-hand side vector b\n",
    "b = np.array([5, 2, 0])\n",
    "\n",
    "# Solve the system\n",
    "x = np.linalg.solve(A, b)\n",
    "print(\"Solution:\", x)"
   ]
  },
  {
   "cell_type": "markdown",
   "metadata": {},
   "source": [
    "As you can see, the solution is $x_1=2.0, x_2=-1.0, x_3=1.0$. Note that the output is _numerical_ i.e., it is an approximation computed with finite precision arithmetic inside the computer. `numpy` is faster for large systems than `sympy`, but it may introduce tiny rounding errors (e.g., $2.00000000001$ instead of $2$).\n",
    "\n",
    "**Exercise 5.3:** Use `numpy` to solve the following system:\n",
    "\n",
    "$$\n",
    "\\left\\{\\begin{array}{rl}\n",
    "x_1 - 3x_2 + 4x_3 &= -4 \\\\\n",
    "3x_1 -7x_2 +7x_3 &= -8 \\\\\n",
    "-4x_1 + 6x_2 + 2x_3 &= 4 \n",
    "\\end{array} \\right.\n",
    "$$"
   ]
  },
  {
   "cell_type": "code",
   "execution_count": null,
   "metadata": {},
   "outputs": [],
   "source": [
    "# your code here"
   ]
  },
  {
   "cell_type": "markdown",
   "metadata": {},
   "source": [
    "## Modifying matrix entries\n",
    "\n",
    "Consider the following large matrix $A$, and a zero matrix $B$ of the same size as $A$:"
   ]
  },
  {
   "cell_type": "code",
   "execution_count": null,
   "metadata": {},
   "outputs": [],
   "source": [
    "A = np.array([\n",
    "    [5, 12, 7, 3, 14, 6, 9, 2, 11, 8],\n",
    "    [1, 13, 4, 10, 7, 5, 12, 6, 8, 3],\n",
    "    [9, 2, 11, 5, 13, 7, 4, 10, 6, 12],\n",
    "    [8, 1, 14, 6, 9, 3, 11, 2, 5, 13],\n",
    "    [7, 10, 3, 12, 6, 9, 2, 8, 4, 11],\n",
    "    [2, 6, 9, 5, 11, 7, 3, 12, 10, 1],\n",
    "    [4, 8, 2, 10, 5, 13, 6, 9, 1, 7],\n",
    "    [12, 3, 6, 11, 2, 8, 5, 14, 7, 10],\n",
    "    [10, 5, 1, 7, 12, 4, 8, 3, 6, 9],\n",
    "    [3, 9, 5, 8, 1, 10, 7, 11, 2, 12]\n",
    "])\n",
    "B=np.zeros((10,10))"
   ]
  },
  {
   "cell_type": "markdown",
   "metadata": {},
   "source": [
    "We can modify entries of $B$ separately. E.g., we can modify the top-left entry of $B$ to be $100$:"
   ]
  },
  {
   "cell_type": "code",
   "execution_count": null,
   "metadata": {},
   "outputs": [],
   "source": [
    "B[0,0]=100\n",
    "print(B)"
   ]
  },
  {
   "cell_type": "markdown",
   "metadata": {},
   "source": [
    "**Exercise 5.4:** Use for loops over the row indices $i$ and column indices $j$ to modify the entries of $B$ as follows, for each entry of $A$:\n",
    "\n",
    "- If $A_{ij} < 6$, set $B_{ij} =100$. \n",
    "- If $A_{ij} \\geq 6$, set  $B_{ij} = A_{ij}$. \n",
    "\n",
    "Then, compute the sum of all entries in $B$ with `np.sum(B)`. What is the result?"
   ]
  },
  {
   "cell_type": "code",
   "execution_count": null,
   "metadata": {},
   "outputs": [],
   "source": [
    "# your code here"
   ]
  },
  {
   "cell_type": "markdown",
   "metadata": {},
   "source": [
    "## Linear transformations of images\n",
    "\n",
    "In this section we will illustrate the concept of applying linear transformations to real-life images.\n",
    "We use the `cv2` library, the `numpy` library, and the `matplotlib` packages for this.\n",
    "\n",
    "*The above packages should be installed in a standard Anaconda installation. If you have another Python installation, typically using the PIP package manager should allow you to install packages. In this case, commands like  \"pip install opencv-python\"  \"pip install numpy\" \"pip install matplotlib\" in a (Windows) powershell should do the job.*\n"
   ]
  },
  {
   "cell_type": "code",
   "execution_count": null,
   "metadata": {},
   "outputs": [],
   "source": [
    "import cv2\n",
    "import numpy as np\n",
    "import matplotlib.pyplot as plt "
   ]
  },
  {
   "cell_type": "markdown",
   "metadata": {},
   "source": [
    "A linear transformation for a vector in $\\mathbb{R}^2$ can be represented by \n",
    "$$\n",
    " \\begin{bmatrix}x'\\\\ y' \\end{bmatrix}= \\begin{bmatrix}a_{11}& a_{12} \\\\ a_{21}& a_{22} \\\\ \\end{bmatrix}\\begin{bmatrix}x\\\\ y\\end{bmatrix}\n",
    "$$\n",
    "\n",
    "For images, $(x,y)$ are the pixel coordinates  of the original image and $(x',y')$ are the pixel coordinates of the transformed image. First we load in an image (this can be any image with the name `image.jpg', but it must be in the same folder as the Python notebook):\n",
    "\n",
    "<style>\n",
    ".cell-output-display {\n",
    "  background-color: #ffffff;\n",
    "}\n",
    "</style>"
   ]
  },
  {
   "cell_type": "code",
   "execution_count": null,
   "metadata": {},
   "outputs": [],
   "source": [
    "#| fig-align: center\n",
    "\n",
    "img2 = cv2.imread('image.jpg')\n",
    "\n",
    "plt.imshow(img2[:,:,::-1])\n",
    "plt.axis('off')"
   ]
  },
  {
   "cell_type": "markdown",
   "metadata": {},
   "source": [
    "The picture can be seen as a set of points in $\\mathbb{R}^2$, corresponding to the pixels, where each point is assigned a color. \n",
    "We are now going to move the points according to a linear transformation $\\mathbb{R}^2 \\to \\mathbb{R}^2$ which maps $\\mathbf{x}$ to $A\\textbf{x}$.\n",
    "\n",
    "We first predefine a Python function called `perform_Transformation()` to apply a transformation to the image. You don't have to understand this code, but only remember that its purpose is  to apply transformations to images. The function takes as input an image and a transformation matrix."
   ]
  },
  {
   "cell_type": "code",
   "execution_count": null,
   "metadata": {},
   "outputs": [],
   "source": [
    "# Function to apply transformation and visualize the result (source: kaggle.com)\n",
    "def perform_Transformation(image, A):\n",
    "    rows,cols,ch = image.shape\n",
    "\n",
    "    M = np.array([[A[0,0], A[0,1], 0],\n",
    "                [A[1,0], A[1,1], 0]])\n",
    "\n",
    "    dst = cv2.warpAffine(image,M,(cols,rows))\n",
    "    \n",
    "    \n",
    "    plt.figure(figsize = (24,8))\n",
    "    plt.subplot(211); plt.imshow(image[:,:,::-1]); plt.title('Original Image')\n",
    "    \n",
    "    plt.subplot(212); plt.imshow(dst[:,:,::-1]); plt.title(\"Transformed Image\")"
   ]
  },
  {
   "cell_type": "markdown",
   "metadata": {},
   "source": [
    "Next, we create a 2x2 (transformation) matrix $A$ and use the image that we stored in `img2` variable and apply the transformation function to these inputs. The function prints both the original and transformed image."
   ]
  },
  {
   "cell_type": "code",
   "execution_count": null,
   "metadata": {},
   "outputs": [],
   "source": [
    "# The matrix A scales the picture down 50% in both the x direction and y direction\n",
    "A = np.array([[0.5,0],\n",
    "                [0,0.5]])\n",
    "\n",
    "perform_Transformation(img2, A)"
   ]
  },
  {
   "cell_type": "markdown",
   "metadata": {},
   "source": [
    "**Exercise 5.5:** \n",
    "\n",
    "i. Can you scale the picture 50% down in the $x$-direction only? \n",
    "\n",
    "ii. Investigate what the matrix $A=\\begin{bmatrix} 0  &1 \\\\ 1 & 0  \\end{bmatrix}$ does to the picture. Can you explain why?"
   ]
  },
  {
   "cell_type": "code",
   "execution_count": null,
   "metadata": {},
   "outputs": [],
   "source": [
    "# your code here"
   ]
  },
  {
   "cell_type": "markdown",
   "metadata": {},
   "source": [
    "The following matrix rotates the picture approximately 45 degrees (note that $\\sin(\\pi/4) = \\cos(\\pi/4) \\approx 0.707$). \n",
    "Sadly, the image is only partly visible then."
   ]
  },
  {
   "cell_type": "code",
   "execution_count": null,
   "metadata": {},
   "outputs": [],
   "source": [
    "# The matrix A rotates the picture 45 degrees\n",
    "A = np.array([[0.707,-0.707],\n",
    "                [0.707,0.707]])\n",
    "\n",
    "perform_Transformation(img2, A)"
   ]
  },
  {
   "cell_type": "markdown",
   "metadata": {},
   "source": [
    "**Exercise 5.6:** \n",
    "\n",
    "i. Let $A=\\begin{bmatrix} 0.5  &0 \\\\ 0 & 1  \\end{bmatrix}$ and $B= \\begin{bmatrix} 0  &1 \\\\ 1 & 0  \\end{bmatrix}$. Compute the matrix products $AB$ and $BA$.\n",
    "\n",
    "ii. Investigate what the matrix $BA= \\begin{bmatrix} 0  &1 \\\\ 1 & 0  \\end{bmatrix}\\begin{bmatrix} 0.5  &0 \\\\ 0 & 1  \\end{bmatrix}$ does to the picture. Can you explain why?\n",
    "\n",
    "iii. What does the matrix $AB = \\begin{bmatrix} 0.5  &0 \\\\ 0 & 1  \\end{bmatrix} \\begin{bmatrix} 0  &1 \\\\ 1 & 0  \\end{bmatrix}$  to the picture and why? \n",
    "\n",
    "iv. Can you scale the picture 50% down in the $x$-direction only, and then rotate the picture (approximately) 45 degrees? What matrix corresponds to this?"
   ]
  },
  {
   "cell_type": "code",
   "execution_count": null,
   "metadata": {},
   "outputs": [],
   "source": [
    "# your code here"
   ]
  },
  {
   "cell_type": "markdown",
   "metadata": {},
   "source": [
    "## Symbolic computations: sympy\n",
    "\n",
    "\n",
    "The `sympy` library is for symbolic computations. We will now demonstrate how this library works. `sympy` also contains a function to bring a matrix into reduced echelon form. This is very useful if you want to verify manual calculations. "
   ]
  },
  {
   "cell_type": "code",
   "execution_count": null,
   "metadata": {},
   "outputs": [],
   "source": [
    "import sympy as sp"
   ]
  },
  {
   "cell_type": "markdown",
   "metadata": {},
   "source": [
    "We now show how to solve the following system of equations:\n",
    "\n",
    "$$\n",
    "\\left\\{\\begin{array}{l}\n",
    "x_1 - 3x_2 + 4x_3 = -4 \\\\\n",
    "3x_1 -7x_2 +7x_3 = -8 \\\\\n",
    "-4x_1 + 6x_2 + 2x_3 = 4 \n",
    "\\end{array}\\right.\n",
    "$$\n",
    " The augmented matrix of the system of linear equations is\n",
    "\n",
    "$$\n",
    "\\left[\\begin{array}{ccc|c}\n",
    "1 & -3 & 4 & -4 \\\\\n",
    "3 & -7 & 7 & -8 \\\\\n",
    "-4 & 6 & 2 & 4 \\\\\n",
    "\\end{array}\\right]\n",
    "$$\n",
    "\n",
    "In Python you can do this with `sympy` as follows."
   ]
  },
  {
   "cell_type": "code",
   "execution_count": null,
   "metadata": {},
   "outputs": [],
   "source": [
    "Ab=sp.Matrix([[1,-3,4,-4],[3,-7,7,-8],[-4,6,2,4]])"
   ]
  },
  {
   "cell_type": "markdown",
   "metadata": {},
   "source": [
    "Now we can find the reduced form of the system using `rref()` from the `sympy` library. The method returns two elements. The first is the row-reduced echelon form of the matrix, and the second is a list of the pivot columns. By typing `Ab_rref[0]`, only the row-reduced echelon form is printed."
   ]
  },
  {
   "cell_type": "code",
   "execution_count": null,
   "metadata": {},
   "outputs": [],
   "source": [
    "Ab_rref = Ab.rref()\n",
    "Ab_rref[0]"
   ]
  },
  {
   "cell_type": "markdown",
   "metadata": {},
   "source": [
    "The system is consistent and we can immediately see the general solution: $x_1=2$, $x_2=2$ and $x_3=0$. The solution is exact, e.g., Python did not round the number 2 to 2.00000 as it does when using the `numpy` module. `sympy` allows us to do exact computation with matrices, as opposed to approximate computations with `numpy`. Computations with `sympy` are generally slower than with `numpy`, so for very large systems, `numpy` is preferred.\n",
    "\n",
    "**Exercise 5.7:** Use Python to solve the following system of equations:\n",
    "\n",
    "$$\n",
    "\\left\\{\\begin{array}{l}\n",
    "x_1 - 3x_2  = 5 \\\\\n",
    "-x_1 +x_2 +5x_3 = 2 \\\\\n",
    "x_2 + x_3 = 0 \n",
    "\\end{array}\\right.\n",
    "$$"
   ]
  },
  {
   "cell_type": "code",
   "execution_count": null,
   "metadata": {},
   "outputs": [],
   "source": [
    "# your code here"
   ]
  },
  {
   "cell_type": "markdown",
   "metadata": {},
   "source": [
    "## Application: supply and demand model\n",
    "(From Linear Algebra notebook by Herbert Hamers)\n",
    "\n",
    "The demand $q_d$ and supply $q_s$ of an item depend on the price $p$ and income $Y$. Suppose that the relation between demand, price and income can be described by the equation\n",
    "\n",
    "$$q_d = 8 - 0.2p + 0.1Y,$$\n",
    "\n",
    "and the relation between supply and price by the equation\n",
    "\n",
    "$$q_s = 6 + 0.3p.$$\n",
    "\n",
    "The market is in equilibrium if $q_s = q_d$. Replacing both $q_s$ and $q_d$ by the new variable $q$, the market equilibrium can be found by solving the following system of two linear equations for the unknowns $p$, $q$ and $Y$:\n",
    "\n",
    "$$\n",
    "\\left\\{\\begin{array}{l}\n",
    "q = 8 - 0.2p + 0.1Y\\\\\n",
    "q = 6 + 0.3p.\n",
    "\\end{array}\\right.\n",
    "$$\n",
    "\n",
    "First, we will rewrite this system of linear equations. We place all terms with a variable to the left of the equal sign and moreover we put terms with the same variable in the different equations right below each other:\n",
    "\n",
    "$$\n",
    "\\left\\{\\begin{array}{l}\n",
    "q + 0.2p - 0.1Y = 8\\\\\n",
    "q - 0.3p = 6.\n",
    "\\end{array}\\right.\n",
    "$$"
   ]
  },
  {
   "cell_type": "code",
   "execution_count": null,
   "metadata": {},
   "outputs": [],
   "source": [
    "Ab = sp.Matrix([[1, 0.2, -0.1, 8], [1, -0.3, 0, 6]]) \n",
    "Ab"
   ]
  },
  {
   "cell_type": "markdown",
   "metadata": {},
   "source": [
    "**Exercise 5.8:** \n",
    "\n",
    "How many solutions does this system of linear equations have? You can use the function `rref()` again to find the row reduced echelon form of the above matrix. \n",
    "Determine the solution if $Y=50$."
   ]
  },
  {
   "cell_type": "code",
   "execution_count": null,
   "metadata": {},
   "outputs": [],
   "source": [
    "# your code here"
   ]
  },
  {
   "cell_type": "markdown",
   "metadata": {},
   "source": [
    "## Symbolic computation of the determinant in Python with `sympy`\n",
    "\n",
    "The `sympy` package can also be used to calculate determinants of symbolic matrices.\n",
    "\n",
    "**Exercise 5.9:**\n",
    " \n",
    "We now investigate how to compute determinants of _symbolic_ matrices using sympy. Let \n",
    "$$\n",
    "A = \\begin{pmatrix}  1 & 0 & x \\\\ 1 & -x & 0 \\\\ x & 0 & -x \\end{pmatrix}.\n",
    "$$\n",
    "Compute $\\det(A)$ using the `sympy` module. First we define the variable x:"
   ]
  },
  {
   "cell_type": "code",
   "execution_count": null,
   "metadata": {},
   "outputs": [],
   "source": [
    "import sympy as sp\n",
    "x = sp.symbols('x')"
   ]
  },
  {
   "cell_type": "markdown",
   "metadata": {},
   "source": [
    "Next, define the matrix A, and compute the determinant of A using the `sympy` function A.det(). For which values of $x$ does the determinant equal zero? To be able to see more easily for which values of $x$ the determinant equals $0$, you can use `sympy`'s factor function."
   ]
  },
  {
   "cell_type": "code",
   "execution_count": null,
   "metadata": {},
   "outputs": [],
   "source": [
    "# your code here"
   ]
  },
  {
   "cell_type": "markdown",
   "metadata": {},
   "source": [
    "For which values of $x$ is $A$ invertible?\n",
    "\n",
    "## (Optional) Row reduction with intermediate steps\n",
    "\n",
    "This optional section describes a more advanced code snippet that implements a row-reduction algorithm from scratch, and allows you to output the intermediate operations. You should be able to read most of the code and recognize the algorithm, but some details have not been explained in this notebook. More specifically, you will see again for-loops and if-statements, but also \"new\" functions such as .copy(), .as\\_mutable(), .append(). If you are interested, we invite you to look up their documentation. You can also use this algorithm to revisit some examples that you have seen in the linear algebra course. \n",
    "\n",
    "<!-- The above section explained how to use sympy's rref() function to obtain the row-reduced echelon form of a matrix. That method, however, only provided the \"final answer\": it does not return the row-operations that have been performed. Below, we provide a Python script that implements a basic row reduction algorithm, shows all intermediate steps, and the operations that it performs. The script uses some basic Python functionalities that you have seen in these two lectures (for-loops, if-statements), but also more advanced features of the sympy package. (We do not explain here the functionality of .copy(), for example, but we invite you to look up the documentation in case you are interested.) -->\n",
    "\n",
    "As a disclaimer: this code has been generated using ChatGPT. \n"
   ]
  },
  {
   "cell_type": "code",
   "execution_count": null,
   "metadata": {},
   "outputs": [],
   "source": [
    "from sympy import Matrix\n",
    "\n",
    "def rref_with_steps(mat):\n",
    "    \"\"\"\n",
    "    Perform row-reduction to RREF while recording intermediate steps and row operations.\n",
    "    Returns:\n",
    "        rref_matrix (Matrix),\n",
    "        pivot_columns (tuple),\n",
    "        steps (list of (Matrix, str))  # Each step is (matrix_snapshot, operation_description)\n",
    "    \"\"\"\n",
    "    A = mat.as_mutable().copy()\n",
    "    rows, cols = A.shape\n",
    "    pivots = []\n",
    "    steps = [(A.copy(), \"Initial matrix\")]\n",
    "\n",
    "    row = 0\n",
    "    for col in range(cols):\n",
    "        if row >= rows:\n",
    "            break\n",
    "\n",
    "        # Find pivot row\n",
    "        pivot_row = None\n",
    "        for r in range(row, rows):\n",
    "            if A[r, col] != 0:\n",
    "                pivot_row = r\n",
    "                break\n",
    "\n",
    "        if pivot_row is None:\n",
    "            continue\n",
    "\n",
    "        # Swap rows if needed\n",
    "        if pivot_row != row:\n",
    "            A.row_swap(pivot_row, row)\n",
    "            steps.append((A.copy(), f\"Swap R{pivot_row+1} ↔ R{row+1}\"))\n",
    "\n",
    "        # Scale pivot row\n",
    "        pivot_val = A[row, col]\n",
    "        if pivot_val != 1:\n",
    "            A.row_op(row, lambda x, _: x / pivot_val)\n",
    "            steps.append((A.copy(), f\"R{row+1} → (1/{pivot_val})·R{row+1}\"))\n",
    "\n",
    "        # Eliminate other rows\n",
    "        for r in range(rows):\n",
    "            if r != row and A[r, col] != 0:\n",
    "                factor = A[r, col]\n",
    "                A.row_op(r, lambda x, j: x - factor * A[row, j])\n",
    "                steps.append((A.copy(), f\"R{r+1} → R{r+1} - ({factor})·R{row+1}\"))\n",
    "\n",
    "        pivots.append(col)\n",
    "        row += 1\n",
    "\n",
    "    return A, tuple(pivots), steps"
   ]
  },
  {
   "cell_type": "code",
   "execution_count": null,
   "metadata": {},
   "outputs": [],
   "source": [
    "A = Matrix([[1, 2, 1],\n",
    "            [2, 4, 3],\n",
    "            [3, 6, 5]])\n",
    "\n",
    "rref_matrix, pivots, steps = rref_with_steps(A)\n",
    "\n",
    "print(\"RREF:\")\n",
    "print(rref_matrix)\n",
    "print(\"Pivot columns:\", pivots)\n",
    "\n",
    "print(\"\\nSteps:\")\n",
    "for i, (s, op) in enumerate(steps):\n",
    "    print(f\"Step {i}: {op}\")\n",
    "    display(s)"
   ]
  }
 ],
 "metadata": {
  "kernelspec": {
   "display_name": "Python 3 (ipykernel)",
   "language": "python",
   "name": "python3"
  },
  "language_info": {
   "codemirror_mode": {
    "name": "ipython",
    "version": 3
   },
   "file_extension": ".py",
   "mimetype": "text/x-python",
   "name": "python",
   "nbconvert_exporter": "python",
   "pygments_lexer": "ipython3",
   "version": "3.10.9"
  }
 },
 "nbformat": 4,
 "nbformat_minor": 4
}
