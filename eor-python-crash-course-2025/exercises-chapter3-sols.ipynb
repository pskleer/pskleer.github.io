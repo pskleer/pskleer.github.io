{
 "cells": [
  {
   "cell_type": "markdown",
   "id": "11e232df",
   "metadata": {},
   "source": [
    "# Exercises of Chapter 3 (Lecture 1)\n",
    "This notebook is an interactive version of the exercises in Chapter 3 of the <a href=\"https://pskleer.github.io/eor-python-crash-course-2025/03-basics.html\">online course document</a>. Here you can type your solutions in the code blocks under the respective questions.\n",
    "\n",
    "Recall that you can run a cell in which you have entered code by pressing the <kbd>$\\blacktriangleright$ Run </kbd> button above, or by using the keyboard shortcut <kbd>Shift</kbd> + <kbd>Enter</kbd>."
   ]
  },
  {
   "cell_type": "markdown",
   "id": "ad0003e0",
   "metadata": {},
   "source": [
    "## Exercise 3.1\n",
    "Compute the following expressions using the operator `+`, `-`, `*`, `/` and `**`:\n",
    "\n",
    "i) $$3 + 5 \\cdot 2$$"
   ]
  },
  {
   "cell_type": "code",
   "execution_count": 3,
   "id": "e34783a3",
   "metadata": {},
   "outputs": [
    {
     "data": {
      "text/plain": [
       "13"
      ]
     },
     "execution_count": 3,
     "metadata": {},
     "output_type": "execute_result"
    }
   ],
   "source": [
    "3 + 5*2"
   ]
  },
  {
   "cell_type": "markdown",
   "id": "30c95e39",
   "metadata": {},
   "source": [
    "ii) $$\\frac{(10 - 4)^2}{3}$$"
   ]
  },
  {
   "cell_type": "code",
   "execution_count": 4,
   "id": "b1339ab8",
   "metadata": {},
   "outputs": [
    {
     "data": {
      "text/plain": [
       "12.0"
      ]
     },
     "execution_count": 4,
     "metadata": {},
     "output_type": "execute_result"
    }
   ],
   "source": [
    "(10 - 4)**2/(3)"
   ]
  },
  {
   "cell_type": "markdown",
   "id": "2844fb76",
   "metadata": {},
   "source": [
    "iii) $$\\frac{\\left((2 + 3) \\cdot 4 - 5\\right)^2}{3 + 1}$$\n"
   ]
  },
  {
   "cell_type": "code",
   "execution_count": 5,
   "id": "6a02b484",
   "metadata": {},
   "outputs": [
    {
     "data": {
      "text/plain": [
       "56.25"
      ]
     },
     "execution_count": 5,
     "metadata": {},
     "output_type": "execute_result"
    }
   ],
   "source": [
    "((2+3)*4 - 5)**2/(3 + 1)"
   ]
  },
  {
   "cell_type": "markdown",
   "id": "f5f4772f",
   "metadata": {},
   "source": [
    "## Exercise 3.2\n",
    "Define variables $a, b, c$ with numbers $19, 3$ and $7$, respectively."
   ]
  },
  {
   "cell_type": "code",
   "execution_count": 6,
   "id": "771a4b95",
   "metadata": {},
   "outputs": [],
   "source": [
    "a = 19\n",
    "b = 3\n",
    "c = 7"
   ]
  },
  {
   "cell_type": "markdown",
   "id": "94935d2e",
   "metadata": {},
   "source": [
    "i) Compute $$a + b \\cdot c$$"
   ]
  },
  {
   "cell_type": "code",
   "execution_count": 7,
   "id": "9ced4015",
   "metadata": {},
   "outputs": [
    {
     "data": {
      "text/plain": [
       "40"
      ]
     },
     "execution_count": 7,
     "metadata": {},
     "output_type": "execute_result"
    }
   ],
   "source": [
    "a + b*c"
   ]
  },
  {
   "cell_type": "markdown",
   "id": "372e8c20",
   "metadata": {},
   "source": [
    "ii) Compute $$\\frac{(a - c)^2}{b}$$\n"
   ]
  },
  {
   "cell_type": "code",
   "execution_count": 8,
   "id": "b425b8e7",
   "metadata": {},
   "outputs": [
    {
     "data": {
      "text/plain": [
       "48.0"
      ]
     },
     "execution_count": 8,
     "metadata": {},
     "output_type": "execute_result"
    }
   ],
   "source": [
    "(a-c)**2/b"
   ]
  },
  {
   "cell_type": "markdown",
   "id": "0f90baac",
   "metadata": {},
   "source": [
    "iii) Compute $$\\frac{((b + c) \\cdot a - c^2)^2}{a + b}$$"
   ]
  },
  {
   "cell_type": "code",
   "execution_count": 9,
   "id": "d04fe2f8",
   "metadata": {},
   "outputs": [
    {
     "data": {
      "text/plain": [
       "903.6818181818181"
      ]
     },
     "execution_count": 9,
     "metadata": {},
     "output_type": "execute_result"
    }
   ],
   "source": [
    "((b+c)*a - c**2)**2/(a+b)"
   ]
  },
  {
   "cell_type": "markdown",
   "id": "015a48d2",
   "metadata": {},
   "source": [
    "## Exercise 3.3\n",
    "Create the list $a = [11, 41, 12, 35, 6, 33, 7]$."
   ]
  },
  {
   "cell_type": "code",
   "execution_count": 1,
   "id": "059ed6f0",
   "metadata": {},
   "outputs": [],
   "source": [
    "a = [11, 41, 12, 35, 6, 33, 7]"
   ]
  },
  {
   "cell_type": "markdown",
   "id": "995c591c",
   "metadata": {},
   "source": [
    "\n",
    "i) Compute the sum of the numbers at even positions in $a$ (i.e., positions $0, 2, 4$, and $6$).\n"
   ]
  },
  {
   "cell_type": "code",
   "execution_count": 2,
   "id": "ae7ba0e3",
   "metadata": {},
   "outputs": [
    {
     "data": {
      "text/plain": [
       "36"
      ]
     },
     "execution_count": 2,
     "metadata": {},
     "output_type": "execute_result"
    }
   ],
   "source": [
    "a[0] + a[2] + a[4] + a[6]"
   ]
  },
  {
   "cell_type": "markdown",
   "id": "b51a1631",
   "metadata": {},
   "source": [
    "ii) Compute the result of multiplying the first and last elements of $a$, then subtracting the middle element.\n"
   ]
  },
  {
   "cell_type": "code",
   "execution_count": 3,
   "id": "21f65837",
   "metadata": {},
   "outputs": [
    {
     "data": {
      "text/plain": [
       "42"
      ]
     },
     "execution_count": 3,
     "metadata": {},
     "output_type": "execute_result"
    }
   ],
   "source": [
    "a[0]*a[6] - a[3]"
   ]
  },
  {
   "cell_type": "markdown",
   "id": "a537bf8c",
   "metadata": {},
   "source": [
    "iii) Compute the square of the element at position $2$, divided by the sum of the elements at the uneven positions."
   ]
  },
  {
   "cell_type": "code",
   "execution_count": 4,
   "id": "21d9486a",
   "metadata": {},
   "outputs": [
    {
     "data": {
      "text/plain": [
       "1.3211009174311927"
      ]
     },
     "execution_count": 4,
     "metadata": {},
     "output_type": "execute_result"
    }
   ],
   "source": [
    "a[2]**2/(a[1] + a[3] + a[5])"
   ]
  },
  {
   "cell_type": "markdown",
   "id": "b02650a4",
   "metadata": {},
   "source": [
    "## Exercise 3.4\n",
    "Create the list $a = [1, 4, 2, 5, 6, 3, 7]$."
   ]
  },
  {
   "cell_type": "code",
   "execution_count": null,
   "id": "257f05c2",
   "metadata": {},
   "outputs": [],
   "source": [
    "a = [1,4,2,5,6,3,7]"
   ]
  },
  {
   "cell_type": "markdown",
   "id": "28d25148",
   "metadata": {},
   "source": [
    "i) Compute the sum of the numbers at the even indices using a for-loop."
   ]
  },
  {
   "cell_type": "code",
   "execution_count": 15,
   "id": "a93e9ac7",
   "metadata": {},
   "outputs": [
    {
     "name": "stdout",
     "output_type": "stream",
     "text": [
      "16\n"
     ]
    }
   ],
   "source": [
    "total_sum = 0\n",
    "\n",
    "for i in [0,2,4,6]:\n",
    "    total_sum = total_sum + a[i]\n",
    "\n",
    "print(total_sum)"
   ]
  },
  {
   "cell_type": "markdown",
   "id": "4d10c47a",
   "metadata": {},
   "source": [
    "ii) Compute the product of the numbers in $a$ using a for-loop."
   ]
  },
  {
   "cell_type": "code",
   "execution_count": 18,
   "id": "cfd2b709",
   "metadata": {},
   "outputs": [
    {
     "name": "stdout",
     "output_type": "stream",
     "text": [
      "5040\n"
     ]
    }
   ],
   "source": [
    "total_prod = 1\n",
    "\n",
    "for i in [0,1,2,3,4,5,6]:\n",
    "    total_prod = total_prod*a[i]\n",
    "\n",
    "print(total_prod)"
   ]
  },
  {
   "cell_type": "markdown",
   "id": "6915646c",
   "metadata": {},
   "source": [
    "## Exercise 3.5\n",
    "Create the list $a = [1, 4, -4, 0, 5, -3, -7]$ in Python."
   ]
  },
  {
   "cell_type": "code",
   "execution_count": 19,
   "id": "3da1a18c",
   "metadata": {},
   "outputs": [],
   "source": [
    "a = [1,4,-4,0,5,-3,-7]"
   ]
  },
  {
   "cell_type": "markdown",
   "id": "df17a5f0",
   "metadata": {},
   "source": [
    "Use a for-loop to check for every number in $a$ whether it is positive, zero, or negative. If a number is positive you should print the message `\"The number is positive\"`, it is zero `\"The number is zero\"` and if it is negative `\"The number is negative\"`. <br>\n",
    "\n",
    "The output of your piece of code should be as follows: <br>\n",
    "\n",
    "The number is positive <br>\n",
    "The number is positive <br>\n",
    "The number is negative <br>\n",
    "The number is zero     <br>\n",
    "The number is positive <br>\n",
    "The number is negative <br>\n",
    "The number is negative"
   ]
  },
  {
   "cell_type": "code",
   "execution_count": 22,
   "id": "df07c542",
   "metadata": {},
   "outputs": [
    {
     "name": "stdout",
     "output_type": "stream",
     "text": [
      "The number is positive\n",
      "The number is positive\n",
      "The number is negative\n",
      "The number is zero\n",
      "The number is positive\n",
      "The number is negative\n",
      "The number is negative\n"
     ]
    }
   ],
   "source": [
    "for i in [0,1,2,3,4,5,6]:\n",
    "    if a[i] > 0:\n",
    "        print(\"The number is positive\")\n",
    "    elif a[i] == 0:\n",
    "        print(\"The number is zero\")\n",
    "    else:\n",
    "        print(\"The number is negative\")"
   ]
  },
  {
   "cell_type": "markdown",
   "id": "8f39139a",
   "metadata": {},
   "source": [
    "## Exercise 3.6\n",
    "Create variables $a = 3, b = 2$ and $c = -1$. Create a variable `D` for the discriminant (in terms of $a,b$ and $c$).\n"
   ]
  },
  {
   "cell_type": "code",
   "execution_count": 28,
   "id": "9e6affbf",
   "metadata": {},
   "outputs": [],
   "source": [
    "a = 3\n",
    "b = 2\n",
    "c = -1\n",
    "\n",
    "D = b**2 - 4*a*c"
   ]
  },
  {
   "cell_type": "markdown",
   "id": "06accce3",
   "metadata": {},
   "source": [
    "i) Use conditional statements to determine how many roots the quadratic formula $ax^2 + bx + c$ has, based on the three possibilities for the discriminant. For each possibility, print an appropriate message in the indented code block. *For the chosen $a,b$ and $c,$ the function has two roots (so this case should be printed in your code).* "
   ]
  },
  {
   "cell_type": "code",
   "execution_count": 25,
   "id": "3a5b4972",
   "metadata": {},
   "outputs": [
    {
     "name": "stdout",
     "output_type": "stream",
     "text": [
      "The function has two roots\n"
     ]
    }
   ],
   "source": [
    "if D > 0:\n",
    "    print(\"The function has two roots\")\n",
    "elif D == 0:\n",
    "    print(\"The function has one root\")\n",
    "else:\n",
    "    print(\"The function has no roots.\")"
   ]
  },
  {
   "cell_type": "markdown",
   "id": "9d552b89",
   "metadata": {},
   "source": [
    "ii) Use conditional statements to print the roots $x$ of the quadratic formula $ax^2 + bx + c,$ based on the three possibilities for the discriminant (in the third case, do not print the roots, but a message saying there are no roots). *Hint: If you want to print two variables `y` and `z` you can use `print(x,y)` or use `print(x)` and `print(y)` on different indented lines.* \n",
    "\n",
    "For the chosen $a,b$ and $c$, your output should show the roots $-1$  and $0.333$ (possibly rounded to less decimals)."
   ]
  },
  {
   "cell_type": "code",
   "execution_count": 27,
   "id": "6343b938",
   "metadata": {
    "scrolled": true
   },
   "outputs": [
    {
     "name": "stdout",
     "output_type": "stream",
     "text": [
      "0.3333333333333333 -1.0\n"
     ]
    }
   ],
   "source": [
    "if D > 0:\n",
    "    root1 = (-b + D**0.5)/(2*a)\n",
    "    root2 = (-b - D**0.5)/(2*a)\n",
    "    print(root1,root2)\n",
    "elif D == 0:\n",
    "    root = -b/(2*a)\n",
    "    print(root)\n",
    "else:\n",
    "    print(\"The function has no roots.\")"
   ]
  },
  {
   "cell_type": "markdown",
   "id": "ed92daad",
   "metadata": {},
   "source": [
    "# Exercise 3.7\n",
    "Create the lists $a = [3,7,1,4]$, $b = [2,7,4,4]$ and $c = [11,3,0,1]$. Write a for-loop that executes your code of Exercise 3.6(ii) for every combination $(a_i,b_i,c_i)$ where $a_i,b_i,c_i$ are the numbers at position $i$ in the lists $a,b,c$, respectively, for $i = 0,1,2,3$.\n",
    "\n",
    "Your output should look something like:\n",
    "\n",
    "The formula has no real roots <br>\n",
    "The formula has no real roots <br>\n",
    "-4.0 0.0 <br>\n",
    "-0.5"
   ]
  },
  {
   "cell_type": "code",
   "execution_count": 1,
   "id": "2e9299b5",
   "metadata": {},
   "outputs": [
    {
     "name": "stdout",
     "output_type": "stream",
     "text": [
      "The formula has no real roots\n",
      "The formula has no real roots\n",
      "-4.0 0.0\n",
      "-0.5\n"
     ]
    }
   ],
   "source": [
    "a = [3,7,1,4]\n",
    "b = [2,7,4,4]\n",
    "c = [11,3,0,1]\n",
    "\n",
    "for i in range(4):\n",
    "    D = b[i]**2 - 4*a[i]*c[i]\n",
    "\n",
    "    if D > 0:\n",
    "        root1 = (-b[i] - (D)**0.5)/(2*a[i])\n",
    "        root2 = (-b[i] + (D)**0.5)/(2*a[i])\n",
    "        print(root1,root2)\n",
    "    elif D == 0:\n",
    "        root = -b[i]/(2*a[i])\n",
    "        print(root)\n",
    "    else:\n",
    "        print(\"The formula has no real roots\")"
   ]
  },
  {
   "cell_type": "markdown",
   "id": "7c5d8b89",
   "metadata": {},
   "source": [
    "## Exercise 3.8 (bonus)\n",
    "\n",
    "Suppose we are given a list $g = [9.1, 1.3, 5.4, 5.6, 5.74, 6.74, 8.25, 9.2, 7.1, 6.9]$ of student grades.\n",
    "\n",
    "i) Write a Python code that rounds every grade to the nearest half integer, i.e., to the value in the set $\\{0, 0.5,1, 1.5,2,2.5,\\dots,8,8.5,9,9.5,10\\}$ it is closest to, and print this value. *Hint: You can round a number to its closest integer by using the `round()` function. For example `round(5.3)` gives $5$, and `round(5.9)` gives $6$. Think of a way to use the `round()` function to round to half integers.*\n",
    "\n",
    "On $g$ as given, the output should be\n",
    "\n",
    "9.0 <br>\n",
    "1.5 <br>\n",
    "5.5 <br>\n",
    "5.5 <br>\n",
    "5.5 <br>\n",
    "6.5 <br>\n",
    "8.0 <br>\n",
    "9.0 <br>\n",
    "7.0 <br>\n",
    "7.0"
   ]
  },
  {
   "cell_type": "code",
   "execution_count": 1,
   "id": "a6baa2ae",
   "metadata": {},
   "outputs": [
    {
     "name": "stdout",
     "output_type": "stream",
     "text": [
      "9.0\n",
      "1.5\n",
      "5.5\n",
      "5.5\n",
      "5.5\n",
      "6.5\n",
      "8.0\n",
      "9.0\n",
      "7.0\n",
      "7.0\n"
     ]
    }
   ],
   "source": [
    "g = [9.1, 1.3, 5.4, 5.6, 5.74, 6.74, 8.25, 9.2, 7.1, 6.9]\n",
    "\n",
    "for i in range(10):\n",
    "    rounded = round(2*g[i])/2\n",
    "    print(rounded)"
   ]
  },
  {
   "cell_type": "markdown",
   "id": "5a474555",
   "metadata": {},
   "source": [
    "ii) Adjust your code so that grades that lie in the interval $(5,6)$ are rounded either up to $6$ or down to $5$ depending which of the two a number is closest to (in other words, rounding to 5.5 is no longer allowed).  *Hint: You can use the `and` keyword to check multiple conditions in an if-statement.*\n",
    "\n",
    "On $g$ as given, the output should be\n",
    "\n",
    "9.0 <br>\n",
    "1.5 <br>\n",
    "5 <br>\n",
    "6 <br>\n",
    "6 <br>\n",
    "6.5 <br>\n",
    "8.0 <br>\n",
    "9.0 <br>\n",
    "7.0 <br>\n",
    "7.0"
   ]
  },
  {
   "cell_type": "code",
   "execution_count": 2,
   "id": "48036751",
   "metadata": {},
   "outputs": [
    {
     "name": "stdout",
     "output_type": "stream",
     "text": [
      "9.0\n",
      "1.5\n",
      "5\n",
      "6\n",
      "6\n",
      "6.5\n",
      "8.0\n",
      "9.0\n",
      "7.0\n",
      "7.0\n"
     ]
    }
   ],
   "source": [
    "g = [9.1, 1.3, 5.4, 5.6, 5.74, 6.74, 8.25, 9.2, 7.1, 6.9]\n",
    "\n",
    "for i in range(10):\n",
    "    if g[i] > 5 and g[i] < 6:\n",
    "        print(round(g[i]))\n",
    "    else:\n",
    "        rounded = round(2*g[i])/2\n",
    "        print(rounded)"
   ]
  },
  {
   "cell_type": "code",
   "execution_count": null,
   "id": "84ce004d",
   "metadata": {},
   "outputs": [],
   "source": []
  }
 ],
 "metadata": {
  "kernelspec": {
   "display_name": "Python 3 (ipykernel)",
   "language": "python",
   "name": "python3"
  },
  "language_info": {
   "codemirror_mode": {
    "name": "ipython",
    "version": 3
   },
   "file_extension": ".py",
   "mimetype": "text/x-python",
   "name": "python",
   "nbconvert_exporter": "python",
   "pygments_lexer": "ipython3",
   "version": "3.10.9"
  }
 },
 "nbformat": 4,
 "nbformat_minor": 5
}
